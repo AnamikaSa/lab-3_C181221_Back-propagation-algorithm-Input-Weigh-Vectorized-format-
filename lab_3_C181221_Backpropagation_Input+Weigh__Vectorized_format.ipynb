{
  "nbformat": 4,
  "nbformat_minor": 0,
  "metadata": {
    "colab": {
      "name": "lab-3_C181221_Backpropagation_Input+Weigh _Vectorized_format.ipynb",
      "provenance": [],
      "authorship_tag": "ABX9TyN/HNYZdRg+nK+gmm7sQ15F",
      "include_colab_link": true
    },
    "kernelspec": {
      "name": "python3",
      "display_name": "Python 3"
    },
    "language_info": {
      "name": "python"
    },
    "widgets": {
      "application/vnd.jupyter.widget-state+json": {
        "c7189f61eec248bb9b8f8610098d664b": {
          "model_module": "@jupyter-widgets/controls",
          "model_name": "HBoxModel",
          "model_module_version": "1.5.0",
          "state": {
            "_dom_classes": [],
            "_model_module": "@jupyter-widgets/controls",
            "_model_module_version": "1.5.0",
            "_model_name": "HBoxModel",
            "_view_count": null,
            "_view_module": "@jupyter-widgets/controls",
            "_view_module_version": "1.5.0",
            "_view_name": "HBoxView",
            "box_style": "",
            "children": [
              "IPY_MODEL_e9c39954889a4a8bb831baf48688690b",
              "IPY_MODEL_5c3bcbdfb1634047833fb31ab44bad03",
              "IPY_MODEL_dc4c480b1d1f49bf8a529b811ab74e92"
            ],
            "layout": "IPY_MODEL_753ab1845fed4a909d3cffa7896a901f"
          }
        },
        "e9c39954889a4a8bb831baf48688690b": {
          "model_module": "@jupyter-widgets/controls",
          "model_name": "HTMLModel",
          "model_module_version": "1.5.0",
          "state": {
            "_dom_classes": [],
            "_model_module": "@jupyter-widgets/controls",
            "_model_module_version": "1.5.0",
            "_model_name": "HTMLModel",
            "_view_count": null,
            "_view_module": "@jupyter-widgets/controls",
            "_view_module_version": "1.5.0",
            "_view_name": "HTMLView",
            "description": "",
            "description_tooltip": null,
            "layout": "IPY_MODEL_b309d9a7eb61487da05c9056ba30cb1b",
            "placeholder": "​",
            "style": "IPY_MODEL_cffa551c88a7491695875b45447a60d2",
            "value": "100%"
          }
        },
        "5c3bcbdfb1634047833fb31ab44bad03": {
          "model_module": "@jupyter-widgets/controls",
          "model_name": "FloatProgressModel",
          "model_module_version": "1.5.0",
          "state": {
            "_dom_classes": [],
            "_model_module": "@jupyter-widgets/controls",
            "_model_module_version": "1.5.0",
            "_model_name": "FloatProgressModel",
            "_view_count": null,
            "_view_module": "@jupyter-widgets/controls",
            "_view_module_version": "1.5.0",
            "_view_name": "ProgressView",
            "bar_style": "success",
            "description": "",
            "description_tooltip": null,
            "layout": "IPY_MODEL_62f1a5d58d1f40a5acf31673421f5d4c",
            "max": 1000,
            "min": 0,
            "orientation": "horizontal",
            "style": "IPY_MODEL_dc7436fce86c4b74a8136d640e4f213d",
            "value": 1000
          }
        },
        "dc4c480b1d1f49bf8a529b811ab74e92": {
          "model_module": "@jupyter-widgets/controls",
          "model_name": "HTMLModel",
          "model_module_version": "1.5.0",
          "state": {
            "_dom_classes": [],
            "_model_module": "@jupyter-widgets/controls",
            "_model_module_version": "1.5.0",
            "_model_name": "HTMLModel",
            "_view_count": null,
            "_view_module": "@jupyter-widgets/controls",
            "_view_module_version": "1.5.0",
            "_view_name": "HTMLView",
            "description": "",
            "description_tooltip": null,
            "layout": "IPY_MODEL_3176bc92f4e44d2c82099799ddf27822",
            "placeholder": "​",
            "style": "IPY_MODEL_30722854ce474f9ca85eeaa6052cd796",
            "value": " 1000/1000 [00:55&lt;00:00, 17.60epoch/s]"
          }
        },
        "753ab1845fed4a909d3cffa7896a901f": {
          "model_module": "@jupyter-widgets/base",
          "model_name": "LayoutModel",
          "model_module_version": "1.2.0",
          "state": {
            "_model_module": "@jupyter-widgets/base",
            "_model_module_version": "1.2.0",
            "_model_name": "LayoutModel",
            "_view_count": null,
            "_view_module": "@jupyter-widgets/base",
            "_view_module_version": "1.2.0",
            "_view_name": "LayoutView",
            "align_content": null,
            "align_items": null,
            "align_self": null,
            "border": null,
            "bottom": null,
            "display": null,
            "flex": null,
            "flex_flow": null,
            "grid_area": null,
            "grid_auto_columns": null,
            "grid_auto_flow": null,
            "grid_auto_rows": null,
            "grid_column": null,
            "grid_gap": null,
            "grid_row": null,
            "grid_template_areas": null,
            "grid_template_columns": null,
            "grid_template_rows": null,
            "height": null,
            "justify_content": null,
            "justify_items": null,
            "left": null,
            "margin": null,
            "max_height": null,
            "max_width": null,
            "min_height": null,
            "min_width": null,
            "object_fit": null,
            "object_position": null,
            "order": null,
            "overflow": null,
            "overflow_x": null,
            "overflow_y": null,
            "padding": null,
            "right": null,
            "top": null,
            "visibility": null,
            "width": null
          }
        },
        "b309d9a7eb61487da05c9056ba30cb1b": {
          "model_module": "@jupyter-widgets/base",
          "model_name": "LayoutModel",
          "model_module_version": "1.2.0",
          "state": {
            "_model_module": "@jupyter-widgets/base",
            "_model_module_version": "1.2.0",
            "_model_name": "LayoutModel",
            "_view_count": null,
            "_view_module": "@jupyter-widgets/base",
            "_view_module_version": "1.2.0",
            "_view_name": "LayoutView",
            "align_content": null,
            "align_items": null,
            "align_self": null,
            "border": null,
            "bottom": null,
            "display": null,
            "flex": null,
            "flex_flow": null,
            "grid_area": null,
            "grid_auto_columns": null,
            "grid_auto_flow": null,
            "grid_auto_rows": null,
            "grid_column": null,
            "grid_gap": null,
            "grid_row": null,
            "grid_template_areas": null,
            "grid_template_columns": null,
            "grid_template_rows": null,
            "height": null,
            "justify_content": null,
            "justify_items": null,
            "left": null,
            "margin": null,
            "max_height": null,
            "max_width": null,
            "min_height": null,
            "min_width": null,
            "object_fit": null,
            "object_position": null,
            "order": null,
            "overflow": null,
            "overflow_x": null,
            "overflow_y": null,
            "padding": null,
            "right": null,
            "top": null,
            "visibility": null,
            "width": null
          }
        },
        "cffa551c88a7491695875b45447a60d2": {
          "model_module": "@jupyter-widgets/controls",
          "model_name": "DescriptionStyleModel",
          "model_module_version": "1.5.0",
          "state": {
            "_model_module": "@jupyter-widgets/controls",
            "_model_module_version": "1.5.0",
            "_model_name": "DescriptionStyleModel",
            "_view_count": null,
            "_view_module": "@jupyter-widgets/base",
            "_view_module_version": "1.2.0",
            "_view_name": "StyleView",
            "description_width": ""
          }
        },
        "62f1a5d58d1f40a5acf31673421f5d4c": {
          "model_module": "@jupyter-widgets/base",
          "model_name": "LayoutModel",
          "model_module_version": "1.2.0",
          "state": {
            "_model_module": "@jupyter-widgets/base",
            "_model_module_version": "1.2.0",
            "_model_name": "LayoutModel",
            "_view_count": null,
            "_view_module": "@jupyter-widgets/base",
            "_view_module_version": "1.2.0",
            "_view_name": "LayoutView",
            "align_content": null,
            "align_items": null,
            "align_self": null,
            "border": null,
            "bottom": null,
            "display": null,
            "flex": null,
            "flex_flow": null,
            "grid_area": null,
            "grid_auto_columns": null,
            "grid_auto_flow": null,
            "grid_auto_rows": null,
            "grid_column": null,
            "grid_gap": null,
            "grid_row": null,
            "grid_template_areas": null,
            "grid_template_columns": null,
            "grid_template_rows": null,
            "height": null,
            "justify_content": null,
            "justify_items": null,
            "left": null,
            "margin": null,
            "max_height": null,
            "max_width": null,
            "min_height": null,
            "min_width": null,
            "object_fit": null,
            "object_position": null,
            "order": null,
            "overflow": null,
            "overflow_x": null,
            "overflow_y": null,
            "padding": null,
            "right": null,
            "top": null,
            "visibility": null,
            "width": null
          }
        },
        "dc7436fce86c4b74a8136d640e4f213d": {
          "model_module": "@jupyter-widgets/controls",
          "model_name": "ProgressStyleModel",
          "model_module_version": "1.5.0",
          "state": {
            "_model_module": "@jupyter-widgets/controls",
            "_model_module_version": "1.5.0",
            "_model_name": "ProgressStyleModel",
            "_view_count": null,
            "_view_module": "@jupyter-widgets/base",
            "_view_module_version": "1.2.0",
            "_view_name": "StyleView",
            "bar_color": null,
            "description_width": ""
          }
        },
        "3176bc92f4e44d2c82099799ddf27822": {
          "model_module": "@jupyter-widgets/base",
          "model_name": "LayoutModel",
          "model_module_version": "1.2.0",
          "state": {
            "_model_module": "@jupyter-widgets/base",
            "_model_module_version": "1.2.0",
            "_model_name": "LayoutModel",
            "_view_count": null,
            "_view_module": "@jupyter-widgets/base",
            "_view_module_version": "1.2.0",
            "_view_name": "LayoutView",
            "align_content": null,
            "align_items": null,
            "align_self": null,
            "border": null,
            "bottom": null,
            "display": null,
            "flex": null,
            "flex_flow": null,
            "grid_area": null,
            "grid_auto_columns": null,
            "grid_auto_flow": null,
            "grid_auto_rows": null,
            "grid_column": null,
            "grid_gap": null,
            "grid_row": null,
            "grid_template_areas": null,
            "grid_template_columns": null,
            "grid_template_rows": null,
            "height": null,
            "justify_content": null,
            "justify_items": null,
            "left": null,
            "margin": null,
            "max_height": null,
            "max_width": null,
            "min_height": null,
            "min_width": null,
            "object_fit": null,
            "object_position": null,
            "order": null,
            "overflow": null,
            "overflow_x": null,
            "overflow_y": null,
            "padding": null,
            "right": null,
            "top": null,
            "visibility": null,
            "width": null
          }
        },
        "30722854ce474f9ca85eeaa6052cd796": {
          "model_module": "@jupyter-widgets/controls",
          "model_name": "DescriptionStyleModel",
          "model_module_version": "1.5.0",
          "state": {
            "_model_module": "@jupyter-widgets/controls",
            "_model_module_version": "1.5.0",
            "_model_name": "DescriptionStyleModel",
            "_view_count": null,
            "_view_module": "@jupyter-widgets/base",
            "_view_module_version": "1.2.0",
            "_view_name": "StyleView",
            "description_width": ""
          }
        },
        "19ff97f57d3f4b5d96f4f2b55e61b065": {
          "model_module": "@jupyter-widgets/controls",
          "model_name": "HBoxModel",
          "model_module_version": "1.5.0",
          "state": {
            "_dom_classes": [],
            "_model_module": "@jupyter-widgets/controls",
            "_model_module_version": "1.5.0",
            "_model_name": "HBoxModel",
            "_view_count": null,
            "_view_module": "@jupyter-widgets/controls",
            "_view_module_version": "1.5.0",
            "_view_name": "HBoxView",
            "box_style": "",
            "children": [
              "IPY_MODEL_ef39b41e8b7f4fd6b3f51b9927653d34",
              "IPY_MODEL_2968bd89d91341a2b4812e1cbaa09ac9",
              "IPY_MODEL_cfba2077c17841afa3d487493f0f5b14"
            ],
            "layout": "IPY_MODEL_386606858c514b16ab10ec3b1462580b"
          }
        },
        "ef39b41e8b7f4fd6b3f51b9927653d34": {
          "model_module": "@jupyter-widgets/controls",
          "model_name": "HTMLModel",
          "model_module_version": "1.5.0",
          "state": {
            "_dom_classes": [],
            "_model_module": "@jupyter-widgets/controls",
            "_model_module_version": "1.5.0",
            "_model_name": "HTMLModel",
            "_view_count": null,
            "_view_module": "@jupyter-widgets/controls",
            "_view_module_version": "1.5.0",
            "_view_name": "HTMLView",
            "description": "",
            "description_tooltip": null,
            "layout": "IPY_MODEL_517c0c5a9b71422ab02e3b5771f9a21c",
            "placeholder": "​",
            "style": "IPY_MODEL_b33affdfeebc4b1b81d983c22111c5bd",
            "value": "100%"
          }
        },
        "2968bd89d91341a2b4812e1cbaa09ac9": {
          "model_module": "@jupyter-widgets/controls",
          "model_name": "FloatProgressModel",
          "model_module_version": "1.5.0",
          "state": {
            "_dom_classes": [],
            "_model_module": "@jupyter-widgets/controls",
            "_model_module_version": "1.5.0",
            "_model_name": "FloatProgressModel",
            "_view_count": null,
            "_view_module": "@jupyter-widgets/controls",
            "_view_module_version": "1.5.0",
            "_view_name": "ProgressView",
            "bar_style": "success",
            "description": "",
            "description_tooltip": null,
            "layout": "IPY_MODEL_4e45ec30ddc249dab577dd40b6f9d528",
            "max": 1000,
            "min": 0,
            "orientation": "horizontal",
            "style": "IPY_MODEL_e11d577c10fb47fb845ab85dd1fd5438",
            "value": 1000
          }
        },
        "cfba2077c17841afa3d487493f0f5b14": {
          "model_module": "@jupyter-widgets/controls",
          "model_name": "HTMLModel",
          "model_module_version": "1.5.0",
          "state": {
            "_dom_classes": [],
            "_model_module": "@jupyter-widgets/controls",
            "_model_module_version": "1.5.0",
            "_model_name": "HTMLModel",
            "_view_count": null,
            "_view_module": "@jupyter-widgets/controls",
            "_view_module_version": "1.5.0",
            "_view_name": "HTMLView",
            "description": "",
            "description_tooltip": null,
            "layout": "IPY_MODEL_66e912bf4f7647d9b81adf93ff655205",
            "placeholder": "​",
            "style": "IPY_MODEL_4eafb102bab044fca2c321e2f7bada55",
            "value": " 1000/1000 [00:45&lt;00:00, 22.51epoch/s]"
          }
        },
        "386606858c514b16ab10ec3b1462580b": {
          "model_module": "@jupyter-widgets/base",
          "model_name": "LayoutModel",
          "model_module_version": "1.2.0",
          "state": {
            "_model_module": "@jupyter-widgets/base",
            "_model_module_version": "1.2.0",
            "_model_name": "LayoutModel",
            "_view_count": null,
            "_view_module": "@jupyter-widgets/base",
            "_view_module_version": "1.2.0",
            "_view_name": "LayoutView",
            "align_content": null,
            "align_items": null,
            "align_self": null,
            "border": null,
            "bottom": null,
            "display": null,
            "flex": null,
            "flex_flow": null,
            "grid_area": null,
            "grid_auto_columns": null,
            "grid_auto_flow": null,
            "grid_auto_rows": null,
            "grid_column": null,
            "grid_gap": null,
            "grid_row": null,
            "grid_template_areas": null,
            "grid_template_columns": null,
            "grid_template_rows": null,
            "height": null,
            "justify_content": null,
            "justify_items": null,
            "left": null,
            "margin": null,
            "max_height": null,
            "max_width": null,
            "min_height": null,
            "min_width": null,
            "object_fit": null,
            "object_position": null,
            "order": null,
            "overflow": null,
            "overflow_x": null,
            "overflow_y": null,
            "padding": null,
            "right": null,
            "top": null,
            "visibility": null,
            "width": null
          }
        },
        "517c0c5a9b71422ab02e3b5771f9a21c": {
          "model_module": "@jupyter-widgets/base",
          "model_name": "LayoutModel",
          "model_module_version": "1.2.0",
          "state": {
            "_model_module": "@jupyter-widgets/base",
            "_model_module_version": "1.2.0",
            "_model_name": "LayoutModel",
            "_view_count": null,
            "_view_module": "@jupyter-widgets/base",
            "_view_module_version": "1.2.0",
            "_view_name": "LayoutView",
            "align_content": null,
            "align_items": null,
            "align_self": null,
            "border": null,
            "bottom": null,
            "display": null,
            "flex": null,
            "flex_flow": null,
            "grid_area": null,
            "grid_auto_columns": null,
            "grid_auto_flow": null,
            "grid_auto_rows": null,
            "grid_column": null,
            "grid_gap": null,
            "grid_row": null,
            "grid_template_areas": null,
            "grid_template_columns": null,
            "grid_template_rows": null,
            "height": null,
            "justify_content": null,
            "justify_items": null,
            "left": null,
            "margin": null,
            "max_height": null,
            "max_width": null,
            "min_height": null,
            "min_width": null,
            "object_fit": null,
            "object_position": null,
            "order": null,
            "overflow": null,
            "overflow_x": null,
            "overflow_y": null,
            "padding": null,
            "right": null,
            "top": null,
            "visibility": null,
            "width": null
          }
        },
        "b33affdfeebc4b1b81d983c22111c5bd": {
          "model_module": "@jupyter-widgets/controls",
          "model_name": "DescriptionStyleModel",
          "model_module_version": "1.5.0",
          "state": {
            "_model_module": "@jupyter-widgets/controls",
            "_model_module_version": "1.5.0",
            "_model_name": "DescriptionStyleModel",
            "_view_count": null,
            "_view_module": "@jupyter-widgets/base",
            "_view_module_version": "1.2.0",
            "_view_name": "StyleView",
            "description_width": ""
          }
        },
        "4e45ec30ddc249dab577dd40b6f9d528": {
          "model_module": "@jupyter-widgets/base",
          "model_name": "LayoutModel",
          "model_module_version": "1.2.0",
          "state": {
            "_model_module": "@jupyter-widgets/base",
            "_model_module_version": "1.2.0",
            "_model_name": "LayoutModel",
            "_view_count": null,
            "_view_module": "@jupyter-widgets/base",
            "_view_module_version": "1.2.0",
            "_view_name": "LayoutView",
            "align_content": null,
            "align_items": null,
            "align_self": null,
            "border": null,
            "bottom": null,
            "display": null,
            "flex": null,
            "flex_flow": null,
            "grid_area": null,
            "grid_auto_columns": null,
            "grid_auto_flow": null,
            "grid_auto_rows": null,
            "grid_column": null,
            "grid_gap": null,
            "grid_row": null,
            "grid_template_areas": null,
            "grid_template_columns": null,
            "grid_template_rows": null,
            "height": null,
            "justify_content": null,
            "justify_items": null,
            "left": null,
            "margin": null,
            "max_height": null,
            "max_width": null,
            "min_height": null,
            "min_width": null,
            "object_fit": null,
            "object_position": null,
            "order": null,
            "overflow": null,
            "overflow_x": null,
            "overflow_y": null,
            "padding": null,
            "right": null,
            "top": null,
            "visibility": null,
            "width": null
          }
        },
        "e11d577c10fb47fb845ab85dd1fd5438": {
          "model_module": "@jupyter-widgets/controls",
          "model_name": "ProgressStyleModel",
          "model_module_version": "1.5.0",
          "state": {
            "_model_module": "@jupyter-widgets/controls",
            "_model_module_version": "1.5.0",
            "_model_name": "ProgressStyleModel",
            "_view_count": null,
            "_view_module": "@jupyter-widgets/base",
            "_view_module_version": "1.2.0",
            "_view_name": "StyleView",
            "bar_color": null,
            "description_width": ""
          }
        },
        "66e912bf4f7647d9b81adf93ff655205": {
          "model_module": "@jupyter-widgets/base",
          "model_name": "LayoutModel",
          "model_module_version": "1.2.0",
          "state": {
            "_model_module": "@jupyter-widgets/base",
            "_model_module_version": "1.2.0",
            "_model_name": "LayoutModel",
            "_view_count": null,
            "_view_module": "@jupyter-widgets/base",
            "_view_module_version": "1.2.0",
            "_view_name": "LayoutView",
            "align_content": null,
            "align_items": null,
            "align_self": null,
            "border": null,
            "bottom": null,
            "display": null,
            "flex": null,
            "flex_flow": null,
            "grid_area": null,
            "grid_auto_columns": null,
            "grid_auto_flow": null,
            "grid_auto_rows": null,
            "grid_column": null,
            "grid_gap": null,
            "grid_row": null,
            "grid_template_areas": null,
            "grid_template_columns": null,
            "grid_template_rows": null,
            "height": null,
            "justify_content": null,
            "justify_items": null,
            "left": null,
            "margin": null,
            "max_height": null,
            "max_width": null,
            "min_height": null,
            "min_width": null,
            "object_fit": null,
            "object_position": null,
            "order": null,
            "overflow": null,
            "overflow_x": null,
            "overflow_y": null,
            "padding": null,
            "right": null,
            "top": null,
            "visibility": null,
            "width": null
          }
        },
        "4eafb102bab044fca2c321e2f7bada55": {
          "model_module": "@jupyter-widgets/controls",
          "model_name": "DescriptionStyleModel",
          "model_module_version": "1.5.0",
          "state": {
            "_model_module": "@jupyter-widgets/controls",
            "_model_module_version": "1.5.0",
            "_model_name": "DescriptionStyleModel",
            "_view_count": null,
            "_view_module": "@jupyter-widgets/base",
            "_view_module_version": "1.2.0",
            "_view_name": "StyleView",
            "description_width": ""
          }
        },
        "d67c6fa5a5114d0bb230c2d23ff1c4c1": {
          "model_module": "@jupyter-widgets/controls",
          "model_name": "HBoxModel",
          "model_module_version": "1.5.0",
          "state": {
            "_dom_classes": [],
            "_model_module": "@jupyter-widgets/controls",
            "_model_module_version": "1.5.0",
            "_model_name": "HBoxModel",
            "_view_count": null,
            "_view_module": "@jupyter-widgets/controls",
            "_view_module_version": "1.5.0",
            "_view_name": "HBoxView",
            "box_style": "",
            "children": [
              "IPY_MODEL_a3bc7fd647e44b9188890cf6ac3b6ba5",
              "IPY_MODEL_f46441c38408407aaeac2d68ceccb6fa",
              "IPY_MODEL_64e1efdaece742e18096b1e55cb8b469"
            ],
            "layout": "IPY_MODEL_1394bff2ad8b4aef902953efac20687d"
          }
        },
        "a3bc7fd647e44b9188890cf6ac3b6ba5": {
          "model_module": "@jupyter-widgets/controls",
          "model_name": "HTMLModel",
          "model_module_version": "1.5.0",
          "state": {
            "_dom_classes": [],
            "_model_module": "@jupyter-widgets/controls",
            "_model_module_version": "1.5.0",
            "_model_name": "HTMLModel",
            "_view_count": null,
            "_view_module": "@jupyter-widgets/controls",
            "_view_module_version": "1.5.0",
            "_view_name": "HTMLView",
            "description": "",
            "description_tooltip": null,
            "layout": "IPY_MODEL_dc42e9ae58184183ad0d5f8edd6552aa",
            "placeholder": "​",
            "style": "IPY_MODEL_7ecfd6e28c3446fd997a9d80afe52469",
            "value": "100%"
          }
        },
        "f46441c38408407aaeac2d68ceccb6fa": {
          "model_module": "@jupyter-widgets/controls",
          "model_name": "FloatProgressModel",
          "model_module_version": "1.5.0",
          "state": {
            "_dom_classes": [],
            "_model_module": "@jupyter-widgets/controls",
            "_model_module_version": "1.5.0",
            "_model_name": "FloatProgressModel",
            "_view_count": null,
            "_view_module": "@jupyter-widgets/controls",
            "_view_module_version": "1.5.0",
            "_view_name": "ProgressView",
            "bar_style": "success",
            "description": "",
            "description_tooltip": null,
            "layout": "IPY_MODEL_912a59a9be6043d798676508b0916e25",
            "max": 1000,
            "min": 0,
            "orientation": "horizontal",
            "style": "IPY_MODEL_9d476b42fabe48b7b3d979c7b600b7a5",
            "value": 1000
          }
        },
        "64e1efdaece742e18096b1e55cb8b469": {
          "model_module": "@jupyter-widgets/controls",
          "model_name": "HTMLModel",
          "model_module_version": "1.5.0",
          "state": {
            "_dom_classes": [],
            "_model_module": "@jupyter-widgets/controls",
            "_model_module_version": "1.5.0",
            "_model_name": "HTMLModel",
            "_view_count": null,
            "_view_module": "@jupyter-widgets/controls",
            "_view_module_version": "1.5.0",
            "_view_name": "HTMLView",
            "description": "",
            "description_tooltip": null,
            "layout": "IPY_MODEL_2e11957c5645486bae72bcad4b6ee2e8",
            "placeholder": "​",
            "style": "IPY_MODEL_67ccbf956ded4be68af1743d200ade41",
            "value": " 1000/1000 [00:01&lt;00:00, 684.57epoch/s]"
          }
        },
        "1394bff2ad8b4aef902953efac20687d": {
          "model_module": "@jupyter-widgets/base",
          "model_name": "LayoutModel",
          "model_module_version": "1.2.0",
          "state": {
            "_model_module": "@jupyter-widgets/base",
            "_model_module_version": "1.2.0",
            "_model_name": "LayoutModel",
            "_view_count": null,
            "_view_module": "@jupyter-widgets/base",
            "_view_module_version": "1.2.0",
            "_view_name": "LayoutView",
            "align_content": null,
            "align_items": null,
            "align_self": null,
            "border": null,
            "bottom": null,
            "display": null,
            "flex": null,
            "flex_flow": null,
            "grid_area": null,
            "grid_auto_columns": null,
            "grid_auto_flow": null,
            "grid_auto_rows": null,
            "grid_column": null,
            "grid_gap": null,
            "grid_row": null,
            "grid_template_areas": null,
            "grid_template_columns": null,
            "grid_template_rows": null,
            "height": null,
            "justify_content": null,
            "justify_items": null,
            "left": null,
            "margin": null,
            "max_height": null,
            "max_width": null,
            "min_height": null,
            "min_width": null,
            "object_fit": null,
            "object_position": null,
            "order": null,
            "overflow": null,
            "overflow_x": null,
            "overflow_y": null,
            "padding": null,
            "right": null,
            "top": null,
            "visibility": null,
            "width": null
          }
        },
        "dc42e9ae58184183ad0d5f8edd6552aa": {
          "model_module": "@jupyter-widgets/base",
          "model_name": "LayoutModel",
          "model_module_version": "1.2.0",
          "state": {
            "_model_module": "@jupyter-widgets/base",
            "_model_module_version": "1.2.0",
            "_model_name": "LayoutModel",
            "_view_count": null,
            "_view_module": "@jupyter-widgets/base",
            "_view_module_version": "1.2.0",
            "_view_name": "LayoutView",
            "align_content": null,
            "align_items": null,
            "align_self": null,
            "border": null,
            "bottom": null,
            "display": null,
            "flex": null,
            "flex_flow": null,
            "grid_area": null,
            "grid_auto_columns": null,
            "grid_auto_flow": null,
            "grid_auto_rows": null,
            "grid_column": null,
            "grid_gap": null,
            "grid_row": null,
            "grid_template_areas": null,
            "grid_template_columns": null,
            "grid_template_rows": null,
            "height": null,
            "justify_content": null,
            "justify_items": null,
            "left": null,
            "margin": null,
            "max_height": null,
            "max_width": null,
            "min_height": null,
            "min_width": null,
            "object_fit": null,
            "object_position": null,
            "order": null,
            "overflow": null,
            "overflow_x": null,
            "overflow_y": null,
            "padding": null,
            "right": null,
            "top": null,
            "visibility": null,
            "width": null
          }
        },
        "7ecfd6e28c3446fd997a9d80afe52469": {
          "model_module": "@jupyter-widgets/controls",
          "model_name": "DescriptionStyleModel",
          "model_module_version": "1.5.0",
          "state": {
            "_model_module": "@jupyter-widgets/controls",
            "_model_module_version": "1.5.0",
            "_model_name": "DescriptionStyleModel",
            "_view_count": null,
            "_view_module": "@jupyter-widgets/base",
            "_view_module_version": "1.2.0",
            "_view_name": "StyleView",
            "description_width": ""
          }
        },
        "912a59a9be6043d798676508b0916e25": {
          "model_module": "@jupyter-widgets/base",
          "model_name": "LayoutModel",
          "model_module_version": "1.2.0",
          "state": {
            "_model_module": "@jupyter-widgets/base",
            "_model_module_version": "1.2.0",
            "_model_name": "LayoutModel",
            "_view_count": null,
            "_view_module": "@jupyter-widgets/base",
            "_view_module_version": "1.2.0",
            "_view_name": "LayoutView",
            "align_content": null,
            "align_items": null,
            "align_self": null,
            "border": null,
            "bottom": null,
            "display": null,
            "flex": null,
            "flex_flow": null,
            "grid_area": null,
            "grid_auto_columns": null,
            "grid_auto_flow": null,
            "grid_auto_rows": null,
            "grid_column": null,
            "grid_gap": null,
            "grid_row": null,
            "grid_template_areas": null,
            "grid_template_columns": null,
            "grid_template_rows": null,
            "height": null,
            "justify_content": null,
            "justify_items": null,
            "left": null,
            "margin": null,
            "max_height": null,
            "max_width": null,
            "min_height": null,
            "min_width": null,
            "object_fit": null,
            "object_position": null,
            "order": null,
            "overflow": null,
            "overflow_x": null,
            "overflow_y": null,
            "padding": null,
            "right": null,
            "top": null,
            "visibility": null,
            "width": null
          }
        },
        "9d476b42fabe48b7b3d979c7b600b7a5": {
          "model_module": "@jupyter-widgets/controls",
          "model_name": "ProgressStyleModel",
          "model_module_version": "1.5.0",
          "state": {
            "_model_module": "@jupyter-widgets/controls",
            "_model_module_version": "1.5.0",
            "_model_name": "ProgressStyleModel",
            "_view_count": null,
            "_view_module": "@jupyter-widgets/base",
            "_view_module_version": "1.2.0",
            "_view_name": "StyleView",
            "bar_color": null,
            "description_width": ""
          }
        },
        "2e11957c5645486bae72bcad4b6ee2e8": {
          "model_module": "@jupyter-widgets/base",
          "model_name": "LayoutModel",
          "model_module_version": "1.2.0",
          "state": {
            "_model_module": "@jupyter-widgets/base",
            "_model_module_version": "1.2.0",
            "_model_name": "LayoutModel",
            "_view_count": null,
            "_view_module": "@jupyter-widgets/base",
            "_view_module_version": "1.2.0",
            "_view_name": "LayoutView",
            "align_content": null,
            "align_items": null,
            "align_self": null,
            "border": null,
            "bottom": null,
            "display": null,
            "flex": null,
            "flex_flow": null,
            "grid_area": null,
            "grid_auto_columns": null,
            "grid_auto_flow": null,
            "grid_auto_rows": null,
            "grid_column": null,
            "grid_gap": null,
            "grid_row": null,
            "grid_template_areas": null,
            "grid_template_columns": null,
            "grid_template_rows": null,
            "height": null,
            "justify_content": null,
            "justify_items": null,
            "left": null,
            "margin": null,
            "max_height": null,
            "max_width": null,
            "min_height": null,
            "min_width": null,
            "object_fit": null,
            "object_position": null,
            "order": null,
            "overflow": null,
            "overflow_x": null,
            "overflow_y": null,
            "padding": null,
            "right": null,
            "top": null,
            "visibility": null,
            "width": null
          }
        },
        "67ccbf956ded4be68af1743d200ade41": {
          "model_module": "@jupyter-widgets/controls",
          "model_name": "DescriptionStyleModel",
          "model_module_version": "1.5.0",
          "state": {
            "_model_module": "@jupyter-widgets/controls",
            "_model_module_version": "1.5.0",
            "_model_name": "DescriptionStyleModel",
            "_view_count": null,
            "_view_module": "@jupyter-widgets/base",
            "_view_module_version": "1.2.0",
            "_view_name": "StyleView",
            "description_width": ""
          }
        }
      }
    }
  },
  "cells": [
    {
      "cell_type": "markdown",
      "metadata": {
        "id": "view-in-github",
        "colab_type": "text"
      },
      "source": [
        "<a href=\"https://colab.research.google.com/github/AnamikaSa/lab-3_C181221_Back-propagation-algorithm-Input-Weigh-Vectorized-format-/blob/main/lab_3_C181221_Backpropagation_Input%2BWeigh__Vectorized_format.ipynb\" target=\"_parent\"><img src=\"https://colab.research.google.com/assets/colab-badge.svg\" alt=\"Open In Colab\"/></a>"
      ]
    },
    {
      "cell_type": "code",
      "execution_count": 1,
      "metadata": {
        "id": "0xyrCsdgjcaJ"
      },
      "outputs": [],
      "source": [
        "import numpy as np\n",
        "import matplotlib.pyplot as plt\n",
        "import matplotlib.colors\n",
        "import pandas as pd\n",
        "from sklearn.model_selection import train_test_split\n",
        "from sklearn.metrics import accuracy_score, mean_squared_error, log_loss\n",
        "from tqdm import tqdm_notebook \n",
        "import seaborn as sns\n",
        "import imageio\n",
        "import time\n",
        "from IPython.display import HTML\n",
        "\n",
        "\n",
        "from sklearn.preprocessing import OneHotEncoder\n",
        "from sklearn.datasets import make_blobs"
      ]
    },
    {
      "cell_type": "code",
      "source": [
        "np.random.seed(0)"
      ],
      "metadata": {
        "id": "8cP2G9MsjhbI"
      },
      "execution_count": 2,
      "outputs": []
    },
    {
      "cell_type": "markdown",
      "source": [
        "# Testing "
      ],
      "metadata": {
        "id": "TYG9XCtJjnug"
      }
    },
    {
      "cell_type": "code",
      "source": [
        "N = 200\n",
        "M = 300\n",
        "a = np.random.randn(N, M)\n",
        "b = np.random.randn(N, M)\n",
        "c = np.zeros((N, M))"
      ],
      "metadata": {
        "id": "aoPycyyBjk6o"
      },
      "execution_count": 21,
      "outputs": []
    },
    {
      "cell_type": "code",
      "source": [
        "%%time\n",
        "for i in range(N):\n",
        "  for j in range(M):\n",
        "    c[i, j] = a[i, j] + b[i, j]"
      ],
      "metadata": {
        "colab": {
          "base_uri": "https://localhost:8080/"
        },
        "id": "Kev3ENKhjzFH",
        "outputId": "ba9c1d6a-97c3-40ba-a603-1c3a2d9257ca"
      },
      "execution_count": 22,
      "outputs": [
        {
          "output_type": "stream",
          "name": "stdout",
          "text": [
            "CPU times: user 41.8 ms, sys: 938 µs, total: 42.7 ms\n",
            "Wall time: 42.1 ms\n"
          ]
        }
      ]
    },
    {
      "cell_type": "code",
      "source": [
        "%%time\n",
        "c = a + b"
      ],
      "metadata": {
        "colab": {
          "base_uri": "https://localhost:8080/"
        },
        "id": "l7k-SnKSkBe2",
        "outputId": "904edccd-f819-40fe-e0dc-3cc136c0e767"
      },
      "execution_count": 23,
      "outputs": [
        {
          "output_type": "stream",
          "name": "stdout",
          "text": [
            "CPU times: user 248 µs, sys: 0 ns, total: 248 µs\n",
            "Wall time: 258 µs\n"
          ]
        }
      ]
    },
    {
      "cell_type": "code",
      "source": [
        "%%time\n",
        "for i in range(N):\n",
        "  for j in range(M):\n",
        "    c[i, j] = np.sin(a[i, j] + 1)"
      ],
      "metadata": {
        "colab": {
          "base_uri": "https://localhost:8080/"
        },
        "id": "HfPES8dakKWB",
        "outputId": "20ae6a16-3220-490d-9ea7-bb9ab08cf776"
      },
      "execution_count": 24,
      "outputs": [
        {
          "output_type": "stream",
          "name": "stdout",
          "text": [
            "CPU times: user 136 ms, sys: 983 µs, total: 137 ms\n",
            "Wall time: 140 ms\n"
          ]
        }
      ]
    },
    {
      "cell_type": "code",
      "source": [
        "%%time\n",
        "c = np.sin(a + 1)"
      ],
      "metadata": {
        "colab": {
          "base_uri": "https://localhost:8080/"
        },
        "id": "nmwjE-yEkMGR",
        "outputId": "e529ec46-8952-4b2e-f284-f36c4dc78522"
      },
      "execution_count": 25,
      "outputs": [
        {
          "output_type": "stream",
          "name": "stdout",
          "text": [
            "CPU times: user 4.1 ms, sys: 0 ns, total: 4.1 ms\n",
            "Wall time: 2.72 ms\n"
          ]
        }
      ]
    },
    {
      "cell_type": "code",
      "source": [
        "data, labels = make_blobs(n_samples=1000, centers=4, n_features=2, random_state=0)\n",
        "print(data.shape, labels.shape)"
      ],
      "metadata": {
        "colab": {
          "base_uri": "https://localhost:8080/"
        },
        "id": "Gj2yxMmTk0FP",
        "outputId": "1e32280d-a0f1-44ee-955a-9ef39c91d80e"
      },
      "execution_count": 26,
      "outputs": [
        {
          "output_type": "stream",
          "name": "stdout",
          "text": [
            "(1000, 2) (1000,)\n"
          ]
        }
      ]
    },
    {
      "cell_type": "code",
      "source": [
        "labels_orig = labels\n",
        "labels = np.mod(labels_orig, 2)"
      ],
      "metadata": {
        "id": "ExMPzCPDk3nH"
      },
      "execution_count": 27,
      "outputs": []
    },
    {
      "cell_type": "code",
      "source": [
        "X_train, X_val, Y_train, Y_val = train_test_split(data, labels_orig, stratify=labels_orig, random_state=0)\n",
        "print(X_train.shape, X_val.shape, labels_orig.shape)"
      ],
      "metadata": {
        "colab": {
          "base_uri": "https://localhost:8080/"
        },
        "id": "1uQvU6hfkv5o",
        "outputId": "d2ae769f-b067-4eb6-9fb6-393f977fe604"
      },
      "execution_count": 28,
      "outputs": [
        {
          "output_type": "stream",
          "name": "stdout",
          "text": [
            "(750, 2) (250, 2) (1000,)\n"
          ]
        }
      ]
    },
    {
      "cell_type": "code",
      "source": [
        "enc = OneHotEncoder()\n",
        "y_OH_train = enc.fit_transform(np.expand_dims(Y_train,1)).toarray()\n",
        "y_OH_val = enc.fit_transform(np.expand_dims(Y_val,1)).toarray()\n",
        "print(y_OH_train.shape, y_OH_val.shape)"
      ],
      "metadata": {
        "colab": {
          "base_uri": "https://localhost:8080/"
        },
        "id": "7KoS3Ew2k7kn",
        "outputId": "4e1f9e76-8fde-491f-ab05-a36d8145f3c2"
      },
      "execution_count": 29,
      "outputs": [
        {
          "output_type": "stream",
          "name": "stdout",
          "text": [
            "(750, 4) (250, 4)\n"
          ]
        }
      ]
    },
    {
      "cell_type": "code",
      "source": [
        "W1 = np.random.randn(2,2)\n",
        "W2 = np.random.randn(2,4)\n",
        "print(W1)\n",
        "print(W2)"
      ],
      "metadata": {
        "colab": {
          "base_uri": "https://localhost:8080/"
        },
        "id": "6jSHgZWClAo3",
        "outputId": "779a46ac-fda5-4b40-8b02-4ac2acaab1f9"
      },
      "execution_count": 30,
      "outputs": [
        {
          "output_type": "stream",
          "name": "stdout",
          "text": [
            "[[ 0.59083762  0.39247618]\n",
            " [ 0.49307816 -2.11709754]]\n",
            "[[ 0.23380873  1.20558365  1.21796545  0.33002466]\n",
            " [ 0.71720736  0.83702262 -1.50891245 -0.63721943]]\n"
          ]
        }
      ]
    },
    {
      "cell_type": "markdown",
      "source": [
        "# Scalar Version"
      ],
      "metadata": {
        "id": "0TaLUi64l1su"
      }
    },
    {
      "cell_type": "code",
      "source": [
        "class FF_MultiClass_Scalar:\n",
        "  \n",
        "  def __init__(self, W1, W2):\n",
        "    self.w1 = W1[0][0].copy()\n",
        "    self.w2 = W1[1][0].copy()\n",
        "    self.w3 = W1[0][1].copy()\n",
        "    self.w4 = W1[1][1].copy()\n",
        "    self.w5 = W2[0][0].copy()\n",
        "    self.w6 = W2[1][0].copy()\n",
        "    self.w7 = W2[0][1].copy()\n",
        "    self.w8 = W2[1][1].copy()\n",
        "    self.w9 = W2[0][2].copy()\n",
        "    self.w10 = W2[1][2].copy()\n",
        "    self.w11 = W2[0][3].copy()\n",
        "    self.w12 = W2[1][3].copy()\n",
        "    self.b1 = 0\n",
        "    self.b2 = 0\n",
        "    self.b3 = 0\n",
        "    self.b4 = 0\n",
        "    self.b5 = 0\n",
        "    self.b6 = 0\n",
        "  \n",
        "  def sigmoid(self, x):\n",
        "    return 1.0/(1.0 + np.exp(-x))\n",
        "  \n",
        "  def forward_pass(self, x):\n",
        "    # input layer\n",
        "    self.x1, self.x2 = x\n",
        "    \n",
        "    # hidden layer\n",
        "    self.a1 = self.w1*self.x1 + self.w2*self.x2 + self.b1\n",
        "    self.h1 = self.sigmoid(self.a1)\n",
        "    self.a2 = self.w3*self.x1 + self.w4*self.x2 + self.b2\n",
        "    self.h2 = self.sigmoid(self.a2)\n",
        "    \n",
        "    # output layer\n",
        "    self.a3 = self.w5*self.h1 + self.w6*self.h2 + self.b3\n",
        "    self.a4 = self.w7*self.h1 + self.w8*self.h2 + self.b4\n",
        "    self.a5 = self.w9*self.h1 + self.w10*self.h2 + self.b5\n",
        "    self.a6 = self.w11*self.h1 + self.w12*self.h2 + self.b5\n",
        "    sum_exps = np.sum([np.exp(self.a3), np.exp(self.a4), np.exp(self.a5), np.exp(self.a6)])\n",
        "    self.h3 = np.exp(self.a3)/sum_exps\n",
        "    self.h4 = np.exp(self.a4)/sum_exps\n",
        "    self.h5 = np.exp(self.a5)/sum_exps\n",
        "    self.h6 = np.exp(self.a6)/sum_exps\n",
        "    \n",
        "    return np.array([self.h3, self.h4, self.h5, self.h6])\n",
        "  \n",
        "  def grad(self, x, y):\n",
        "    self.forward_pass(x)\n",
        "    self.y1, self.y2, self.y3, self.y4 = y\n",
        "    \n",
        "    self.da3 = (self.h3-self.y1)\n",
        "    self.da4 = (self.h4-self.y2)\n",
        "    self.da5 = (self.h5-self.y3)\n",
        "    self.da6 = (self.h6-self.y4)\n",
        "    \n",
        "    self.dw5 = self.da3*self.h1\n",
        "    self.dw6 = self.da3*self.h2\n",
        "    self.db3 = self.da3\n",
        "    \n",
        "    self.dw7 = self.da4*self.h1\n",
        "    self.dw8 = self.da4*self.h2\n",
        "    self.db4 = self.da4\n",
        "    \n",
        "    self.dw9 = self.da5*self.h1\n",
        "    self.dw10 = self.da5*self.h2\n",
        "    self.db5 = self.da5\n",
        "    \n",
        "    self.dw11 = self.da6*self.h1\n",
        "    self.dw12 = self.da6*self.h2\n",
        "    self.db6 = self.da6\n",
        "    \n",
        "    self.dh1 = self.da3*self.w5 + self.da4*self.w7 + self.da5*self.w9 + self.da6*self.w11\n",
        "    self.dh2 = self.da3*self.w6 + self.da4*self.w8 + self.da5*self.w10 + self.da6*self.w12\n",
        "    \n",
        "    self.da1 = self.dh1 * self.h1*(1-self.h1)\n",
        "    self.da2 = self.dh2 * self.h2*(1-self.h2)\n",
        "    \n",
        "    self.dw1 = self.da1*self.x1\n",
        "    self.dw2 = self.da1*self.x2\n",
        "    self.db1 = self.da1\n",
        "    \n",
        "    self.dw3 = self.da2*self.x1\n",
        "    self.dw4 = self.da2*self.x2\n",
        "    self.db2 = self.da2\n",
        "    \n",
        "  \n",
        "  def fit(self, X, Y, epochs=1, learning_rate=1, display_loss=False, display_weight=False):\n",
        "      \n",
        "    if display_loss:\n",
        "      loss = {}\n",
        "    \n",
        "    for i in tqdm_notebook(range(epochs), total=epochs, unit=\"epoch\"):\n",
        "      dw1, dw2, dw3, dw4, dw5, dw6, dw7, dw8, dw9, dw10, dw11, dw12, db1, db2, db3, db4, db5, db6  = [0]*18\n",
        "      for x, y in zip(X, Y):\n",
        "        self.grad(x, y)\n",
        "        dw1 += self.dw1\n",
        "        dw2 += self.dw2\n",
        "        dw3 += self.dw3\n",
        "        dw4 += self.dw4\n",
        "        dw5 += self.dw5\n",
        "        dw6 += self.dw6\n",
        "        dw7 += self.dw7\n",
        "        dw8 += self.dw8\n",
        "        dw9 += self.dw9\n",
        "        dw10 += self.dw10\n",
        "        dw11 += self.dw11\n",
        "        dw12 += self.dw12\n",
        "        db1 += self.db1\n",
        "        db2 += self.db2\n",
        "        db3 += self.db3\n",
        "        db4 += self.db4\n",
        "        db2 += self.db5\n",
        "        db3 += self.db6\n",
        "        \n",
        "      m = X.shape[0]\n",
        "      self.w1 -= (learning_rate * (dw1 / m))\n",
        "      self.w2 -= (learning_rate * (dw2 / m))\n",
        "      self.w3 -= (learning_rate * (dw3 / m))\n",
        "      self.w4 -= (learning_rate * (dw4 / m))\n",
        "      self.w5 -= (learning_rate * (dw5 / m))\n",
        "      self.w6 -= (learning_rate * (dw6 / m))\n",
        "      self.w7 -= (learning_rate * (dw7 / m))\n",
        "      self.w8 -= (learning_rate * (dw8 / m))\n",
        "      self.w9 -= (learning_rate * (dw9 / m))\n",
        "      self.w10 -= (learning_rate * (dw10 / m))\n",
        "      self.w11 -= (learning_rate * (dw11 / m))\n",
        "      self.w12 -= (learning_rate * (dw12 / m))\n",
        "      self.b1 -= (learning_rate * (db1 / m))\n",
        "      self.b2 -= (learning_rate * (db2 / m))\n",
        "      self.b3 -= (learning_rate * (db3 / m))\n",
        "      self.b4 -= (learning_rate * (db4 / m))\n",
        "      self.b5 -= (learning_rate * (db5 / m))\n",
        "      self.b6 -= (learning_rate * (db6 / m))\n",
        "      \n",
        "      if display_loss:\n",
        "        Y_pred = self.predict(X)\n",
        "        loss[i] = log_loss(np.argmax(Y, axis=1), Y_pred)\n",
        "    \n",
        "    if display_loss:\n",
        "      Wt1 = [[self.w1, self.w3], [self.w2, self.w4]]\n",
        "      Wt2 = [[self.w5, self.w6, self.w7, self.w8], [self.w9, self.w10, self.w11, self.w12]]\n",
        "      # plt.plot(loss.values())\n",
        "      myList = loss.items()\n",
        "      x, y = zip(*myList)\n",
        "      plt.plot(x, y)\n",
        "      plt.xlabel('Epochs')\n",
        "      plt.ylabel('Log Loss')\n",
        "      plt.show()\n",
        "      \n",
        "  def predict(self, X):\n",
        "    Y_pred = []\n",
        "    for x in X:\n",
        "      y_pred = self.forward_pass(x)\n",
        "      Y_pred.append(y_pred)\n",
        "    return np.array(Y_pred)"
      ],
      "metadata": {
        "id": "_N-BAfAHlDWA"
      },
      "execution_count": 32,
      "outputs": []
    },
    {
      "cell_type": "code",
      "source": [
        "class FF_MultiClass_WeightVectorised:\n",
        "  \n",
        "  def __init__(self, W1, W2):\n",
        "    self.W1 = W1.copy()\n",
        "    self.W2 = W2.copy()\n",
        "    self.B1 = np.zeros((1,2))\n",
        "    self.B2 = np.zeros((1,4))\n",
        "  \n",
        "  def sigmoid(self, x):\n",
        "    return 1.0/(1.0 + np.exp(-x))\n",
        "  \n",
        "  def softmax(self, x):\n",
        "    exps = np.exp(x)\n",
        "    return exps / np.sum(exps)\n",
        "  \n",
        "  def forward_pass(self, x):\n",
        "    x = x.reshape(1, -1) # (1, 2)\n",
        "    self.A1 = np.matmul(x,self.W1) + self.B1  # (1, 2) * (2, 2) -> (1, 2)\n",
        "    self.H1 = self.sigmoid(self.A1) # (1, 2)\n",
        "    self.A2 = np.matmul(self.H1, self.W2) + self.B2 # (1, 2) * (2, 4) -> (1, 4) \n",
        "    self.H2 = self.softmax(self.A2) # (1, 4)\n",
        "    return self.H2\n",
        "    \n",
        "  def grad_sigmoid(self, x):\n",
        "    return x*(1-x) \n",
        "  \n",
        "  def grad(self, x, y):\n",
        "    self.forward_pass(x)\n",
        "    x = x.reshape(1, -1) # (1, 2)\n",
        "    y = y.reshape(1, -1) # (1, 4)\n",
        "    \n",
        "    self.dA2 = self.H2 - y # (1, 4) \n",
        "    \n",
        "    self.dW2 = np.matmul(self.H1.T, self.dA2) # (2, 1) * (1, 4) -> (2, 4)\n",
        "    self.dB2 = self.dA2 # (1, 4)\n",
        "    self.dH1 = np.matmul(self.dA2, self.W2.T) # (1, 4) * (4, 2) -> (1, 2)\n",
        "    self.dA1 = np.multiply(self.dH1, self.grad_sigmoid(self.H1)) # -> (1, 2)\n",
        "    \n",
        "    self.dW1 = np.matmul(x.T, self.dA1) # (2, 1) * (1, 2) -> (2, 2)\n",
        "    self.dB1 = self.dA1 # (1, 2)\n",
        "\n",
        "  \n",
        "  def fit(self, X, Y, epochs=1, learning_rate=1, display_loss=False):\n",
        "      \n",
        "    if display_loss:\n",
        "      loss = {}\n",
        "    \n",
        "    for i in tqdm_notebook(range(epochs), total=epochs, unit=\"epoch\"):\n",
        "      dW1 = np.zeros((2,2))\n",
        "      dW2 = np.zeros((2,4))\n",
        "      dB1 = np.zeros((1,2))\n",
        "      dB2 = np.zeros((1,4))\n",
        "      for x, y in zip(X, Y):\n",
        "        self.grad(x, y)\n",
        "        dW1 += self.dW1\n",
        "        dW2 += self.dW2\n",
        "        dB1 += self.dB1\n",
        "        dB2 += self.dB2  \n",
        "        \n",
        "      m = X.shape[0]\n",
        "      self.W2 -= learning_rate * (dW2/m)\n",
        "      self.B2 -= learning_rate * (dB2/m)\n",
        "      self.W1 -= learning_rate * (dW1/m)\n",
        "      self.B1 -= learning_rate * (dB1/m)\n",
        "\n",
        "      if display_loss:\n",
        "        Y_pred = self.predict(X)\n",
        "        loss[i] = log_loss(np.argmax(Y, axis=1), Y_pred)\n",
        "        \n",
        "    \n",
        "    if display_loss:\n",
        "      # plt.plot(loss.values())\n",
        "      myList = loss.items()\n",
        "      x, y = zip(*myList)\n",
        "      plt.plot(x, y)\n",
        "      plt.xlabel('Epochs')\n",
        "      plt.ylabel('Log Loss')\n",
        "      plt.show()\n",
        "      \n",
        "  def predict(self, X):\n",
        "    Y_pred = []\n",
        "    for x in X:\n",
        "      y_pred = self.forward_pass(x)\n",
        "      Y_pred.append(y_pred)\n",
        "    return np.array(Y_pred).squeeze()"
      ],
      "metadata": {
        "id": "oNZGsEAWKEU9"
      },
      "execution_count": 33,
      "outputs": []
    },
    {
      "cell_type": "markdown",
      "source": [
        "# Input + Weight Vectorised Version"
      ],
      "metadata": {
        "id": "HkNXMnv9lgR3"
      }
    },
    {
      "cell_type": "code",
      "source": [
        "class FF_MultiClass_InputWeightVectorised:\n",
        "  \n",
        "  def __init__(self, W1, W2):\n",
        "    self.W1 = W1.copy()\n",
        "    self.W2 = W2.copy()\n",
        "    self.B1 = np.zeros((1,2))\n",
        "    self.B2 = np.zeros((1,4))\n",
        "  \n",
        "  def sigmoid(self, X):\n",
        "    return 1.0/(1.0 + np.exp(-X))\n",
        "  \n",
        "  def softmax(self, X):\n",
        "    exps = np.exp(X)\n",
        "    return exps / np.sum(exps, axis=1).reshape(-1,1)\n",
        "  \n",
        "  def forward_pass(self, X):\n",
        "    self.A1 = np.matmul(X,self.W1) + self.B1 # (N, 2) * (2, 2) -> (N, 2)\n",
        "    self.H1 = self.sigmoid(self.A1) # (N, 2)\n",
        "    self.A2 = np.matmul(self.H1, self.W2) + self.B2 # (N, 2) * (2, 4) -> (N, 4)\n",
        "    self.H2 = self.softmax(self.A2) # (N, 4)\n",
        "    return self.H2\n",
        "    \n",
        "  def grad_sigmoid(self, X):\n",
        "    return X*(1-X) \n",
        "  \n",
        "  def grad(self, X, Y):\n",
        "    self.forward_pass(X)\n",
        "    m = X.shape[0]\n",
        "    \n",
        "    self.dA2 = self.H2 - Y # (N, 4) - (N, 4) -> (N, 4)\n",
        "    \n",
        "    self.dW2 = np.matmul(self.H1.T, self.dA2) # (2, N) * (N, 4) -> (2, 4)\n",
        "    self.dB2 = np.sum(self.dA2, axis=0).reshape(1, -1) # (N, 4) -> (1, 4)\n",
        "    self.dH1 = np.matmul(self.dA2, self.W2.T) # (N, 4) * (4, 2) -> (N, 2)\n",
        "    self.dA1 = np.multiply(self.dH1, self.grad_sigmoid(self.H1)) # (N, 2) .* (N, 2) -> (N, 2)\n",
        "    \n",
        "    self.dW1 = np.matmul(X.T, self.dA1) # (2, N) * (N, 2) -> (2, 2)\n",
        "    self.dB1 = np.sum(self.dA1, axis=0).reshape(1, -1) # (N, 2) -> (1, 2)\n",
        "\n",
        "      \n",
        "  def fit(self, X, Y, epochs=1, learning_rate=1, display_loss=False):\n",
        "      \n",
        "    if display_loss:\n",
        "      loss = {}\n",
        "    \n",
        "    for i in tqdm_notebook(range(epochs), total=epochs, unit=\"epoch\"):\n",
        "      self.grad(X, Y) # X -> (N, 2), Y -> (N, 4)\n",
        "        \n",
        "      m = X.shape[0]\n",
        "      self.W2 -= learning_rate * (self.dW2/m)\n",
        "      self.B2 -= learning_rate * (self.dB2/m)\n",
        "      self.W1 -= learning_rate * (self.dW1/m)\n",
        "      self.B1 -= learning_rate * (self.dB1/m)\n",
        "\n",
        "      if display_loss:\n",
        "        Y_pred = self.predict(X)\n",
        "        loss[i] = log_loss(np.argmax(Y, axis=1), Y_pred)\n",
        "    \n",
        "    \n",
        "    if display_loss:\n",
        "      # plt.plot(loss.values())\n",
        "      myList = loss.items()\n",
        "      x, y = zip(*myList)\n",
        "      plt.plot(x, y)\n",
        "      plt.xlabel('Epochs')\n",
        "      plt.ylabel('Log Loss')\n",
        "      plt.show()\n",
        "      \n",
        "  \n",
        "  def predict(self, X):\n",
        "    Y_pred = self.forward_pass(X)\n",
        "    return np.array(Y_pred).squeeze()"
      ],
      "metadata": {
        "id": "Nw8kRLTylJZo"
      },
      "execution_count": 34,
      "outputs": []
    },
    {
      "cell_type": "code",
      "source": [
        "models_init = [FF_MultiClass_Scalar(W1, W2), FF_MultiClass_WeightVectorised(W1, W2),FF_MultiClass_InputWeightVectorised(W1, W2)]\n",
        "models = []\n",
        "for idx, model in enumerate(models_init, start=1):\n",
        "  tic = time.time()\n",
        "  ffsn_multi_specific = model\n",
        "  ffsn_multi_specific.fit(X_train,y_OH_train,epochs=1000,learning_rate=1,display_loss=True)\n",
        "  models.append(ffsn_multi_specific)\n",
        "  toc = time.time()\n",
        "  print(\"Time taken by model {}: {}\".format(idx, toc-tic))"
      ],
      "metadata": {
        "colab": {
          "base_uri": "https://localhost:8080/",
          "height": 1000,
          "referenced_widgets": [
            "c7189f61eec248bb9b8f8610098d664b",
            "e9c39954889a4a8bb831baf48688690b",
            "5c3bcbdfb1634047833fb31ab44bad03",
            "dc4c480b1d1f49bf8a529b811ab74e92",
            "753ab1845fed4a909d3cffa7896a901f",
            "b309d9a7eb61487da05c9056ba30cb1b",
            "cffa551c88a7491695875b45447a60d2",
            "62f1a5d58d1f40a5acf31673421f5d4c",
            "dc7436fce86c4b74a8136d640e4f213d",
            "3176bc92f4e44d2c82099799ddf27822",
            "30722854ce474f9ca85eeaa6052cd796",
            "19ff97f57d3f4b5d96f4f2b55e61b065",
            "ef39b41e8b7f4fd6b3f51b9927653d34",
            "2968bd89d91341a2b4812e1cbaa09ac9",
            "cfba2077c17841afa3d487493f0f5b14",
            "386606858c514b16ab10ec3b1462580b",
            "517c0c5a9b71422ab02e3b5771f9a21c",
            "b33affdfeebc4b1b81d983c22111c5bd",
            "4e45ec30ddc249dab577dd40b6f9d528",
            "e11d577c10fb47fb845ab85dd1fd5438",
            "66e912bf4f7647d9b81adf93ff655205",
            "4eafb102bab044fca2c321e2f7bada55",
            "d67c6fa5a5114d0bb230c2d23ff1c4c1",
            "a3bc7fd647e44b9188890cf6ac3b6ba5",
            "f46441c38408407aaeac2d68ceccb6fa",
            "64e1efdaece742e18096b1e55cb8b469",
            "1394bff2ad8b4aef902953efac20687d",
            "dc42e9ae58184183ad0d5f8edd6552aa",
            "7ecfd6e28c3446fd997a9d80afe52469",
            "912a59a9be6043d798676508b0916e25",
            "9d476b42fabe48b7b3d979c7b600b7a5",
            "2e11957c5645486bae72bcad4b6ee2e8",
            "67ccbf956ded4be68af1743d200ade41"
          ]
        },
        "id": "anWi6dDilUdt",
        "outputId": "f64d7979-463a-4dcc-876f-737a1cee0a34"
      },
      "execution_count": 35,
      "outputs": [
        {
          "output_type": "stream",
          "name": "stderr",
          "text": [
            "/usr/local/lib/python3.7/dist-packages/ipykernel_launcher.py:94: TqdmDeprecationWarning: This function will be removed in tqdm==5.0.0\n",
            "Please use `tqdm.notebook.tqdm` instead of `tqdm.tqdm_notebook`\n"
          ]
        },
        {
          "output_type": "display_data",
          "data": {
            "text/plain": [
              "  0%|          | 0/1000 [00:00<?, ?epoch/s]"
            ],
            "application/vnd.jupyter.widget-view+json": {
              "version_major": 2,
              "version_minor": 0,
              "model_id": "c7189f61eec248bb9b8f8610098d664b"
            }
          },
          "metadata": {}
        },
        {
          "output_type": "display_data",
          "data": {
            "text/plain": [
              "<Figure size 432x288 with 1 Axes>"
            ],
            "image/png": "[encoded data removed]"
          },
          "metadata": {
            "needs_background": "light"
          }
        },
        {
          "output_type": "stream",
          "name": "stdout",
          "text": [
            "Time taken by model 1: 55.98349189758301\n"
          ]
        },
        {
          "output_type": "stream",
          "name": "stderr",
          "text": [
            "/usr/local/lib/python3.7/dist-packages/ipykernel_launcher.py:48: TqdmDeprecationWarning: This function will be removed in tqdm==5.0.0\n",
            "Please use `tqdm.notebook.tqdm` instead of `tqdm.tqdm_notebook`\n"
          ]
        },
        {
          "output_type": "display_data",
          "data": {
            "text/plain": [
              "  0%|          | 0/1000 [00:00<?, ?epoch/s]"
            ],
            "application/vnd.jupyter.widget-view+json": {
              "version_major": 2,
              "version_minor": 0,
              "model_id": "19ff97f57d3f4b5d96f4f2b55e61b065"
            }
          },
          "metadata": {}
        },
        {
          "output_type": "display_data",
          "data": {
            "text/plain": [
              "<Figure size 432x288 with 1 Axes>"
            ],
            "image/png": "[encoded data removed]"
          },
          "metadata": {
            "needs_background": "light"
          }
        },
        {
          "output_type": "stream",
          "name": "stdout",
          "text": [
            "Time taken by model 2: 45.656254053115845\n"
          ]
        },
        {
          "output_type": "stream",
          "name": "stderr",
          "text": [
            "/usr/local/lib/python3.7/dist-packages/ipykernel_launcher.py:46: TqdmDeprecationWarning: This function will be removed in tqdm==5.0.0\n",
            "Please use `tqdm.notebook.tqdm` instead of `tqdm.tqdm_notebook`\n"
          ]
        },
        {
          "output_type": "display_data",
          "data": {
            "text/plain": [
              "  0%|          | 0/1000 [00:00<?, ?epoch/s]"
            ],
            "application/vnd.jupyter.widget-view+json": {
              "version_major": 2,
              "version_minor": 0,
              "model_id": "d67c6fa5a5114d0bb230c2d23ff1c4c1"
            }
          },
          "metadata": {}
        },
        {
          "output_type": "display_data",
          "data": {
            "text/plain": [
              "<Figure size 432x288 with 1 Axes>"
            ],
            "image/png": "[encoded data removed]"
          },
          "metadata": {
            "needs_background": "light"
          }
        },
        {
          "output_type": "stream",
          "name": "stdout",
          "text": [
            "Time taken by model 3: 1.679807186126709\n"
          ]
        }
      ]
    },
    {
      "cell_type": "code",
      "source": [
        "for idx, model in enumerate(models, start=1):\n",
        "  Y_pred_train = model.predict(X_train)\n",
        "  Y_pred_train = np.argmax(Y_pred_train,1)\n",
        "\n",
        "  Y_pred_val = model.predict(X_val)\n",
        "  Y_pred_val = np.argmax(Y_pred_val,1)\n",
        "\n",
        "  accuracy_train = accuracy_score(Y_pred_train, Y_train)\n",
        "  accuracy_val = accuracy_score(Y_pred_val, Y_val)\n",
        "  \n",
        "  print(\"Model {}\".format(idx))\n",
        "  print(\"Training accuracy\", round(accuracy_train, 2))\n",
        "  print(\"Validation accuracy\", round(accuracy_val, 2))"
      ],
      "metadata": {
        "colab": {
          "base_uri": "https://localhost:8080/"
        },
        "id": "3pEEGchPmJeW",
        "outputId": "82a9c725-e687-4644-fabe-285cde8d5a79"
      },
      "execution_count": 36,
      "outputs": [
        {
          "output_type": "stream",
          "name": "stdout",
          "text": [
            "Model 1\n",
            "Training accuracy 0.67\n",
            "Validation accuracy 0.69\n",
            "Model 2\n",
            "Training accuracy 0.89\n",
            "Validation accuracy 0.9\n",
            "Model 3\n",
            "Training accuracy 0.89\n",
            "Validation accuracy 0.9\n"
          ]
        }
      ]
    }
  ]
}